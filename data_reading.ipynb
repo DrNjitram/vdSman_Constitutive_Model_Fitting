{
 "cells": [
  {
   "attachments": {},
   "cell_type": "markdown",
   "metadata": {},
   "source": [
    "# Start Up"
   ]
  },
  {
   "attachments": {},
   "cell_type": "markdown",
   "metadata": {},
   "source": [
    "Upload the modules"
   ]
  },
  {
   "cell_type": "code",
   "metadata": {
    "ExecuteTime": {
     "end_time": "2024-11-28T23:44:40.004631Z",
     "start_time": "2024-11-28T23:44:22.392672Z"
    }
   },
   "source": [
    "%pip install pandas\n",
    "%pip install numpy\n",
    "%pip install -U matplotlib\n",
    "%pip install scipy\n",
    "%pip install math\n",
    "%pip install openpyxl\n",
    "%pip install scikit-learn\n",
    "%pip install SALib\n",
    "%pip install pyDOE\n",
    "%pip install h5py"
   ],
   "outputs": [
    {
     "name": "stdout",
     "output_type": "stream",
     "text": [
      "Requirement already satisfied: pandas in c:\\users\\marti\\vdsman_constitutive_model_fitting\\lib\\site-packages (2.2.3)\n",
      "Requirement already satisfied: numpy>=1.26.0 in c:\\users\\marti\\vdsman_constitutive_model_fitting\\lib\\site-packages (from pandas) (2.1.3)\n",
      "Requirement already satisfied: python-dateutil>=2.8.2 in c:\\users\\marti\\vdsman_constitutive_model_fitting\\lib\\site-packages (from pandas) (2.9.0.post0)\n",
      "Requirement already satisfied: pytz>=2020.1 in c:\\users\\marti\\vdsman_constitutive_model_fitting\\lib\\site-packages (from pandas) (2024.2)\n",
      "Requirement already satisfied: tzdata>=2022.7 in c:\\users\\marti\\vdsman_constitutive_model_fitting\\lib\\site-packages (from pandas) (2024.2)\n",
      "Requirement already satisfied: six>=1.5 in c:\\users\\marti\\vdsman_constitutive_model_fitting\\lib\\site-packages (from python-dateutil>=2.8.2->pandas) (1.16.0)\n",
      "Note: you may need to restart the kernel to use updated packages.\n",
      "Requirement already satisfied: numpy in c:\\users\\marti\\vdsman_constitutive_model_fitting\\lib\\site-packages (2.1.3)Note: you may need to restart the kernel to use updated packages.\n",
      "\n",
      "Requirement already satisfied: matplotlib in c:\\users\\marti\\vdsman_constitutive_model_fitting\\lib\\site-packages (3.9.2)\n",
      "Requirement already satisfied: contourpy>=1.0.1 in c:\\users\\marti\\vdsman_constitutive_model_fitting\\lib\\site-packages (from matplotlib) (1.3.1)\n",
      "Requirement already satisfied: cycler>=0.10 in c:\\users\\marti\\vdsman_constitutive_model_fitting\\lib\\site-packages (from matplotlib) (0.12.1)\n",
      "Requirement already satisfied: fonttools>=4.22.0 in c:\\users\\marti\\vdsman_constitutive_model_fitting\\lib\\site-packages (from matplotlib) (4.55.0)\n",
      "Requirement already satisfied: kiwisolver>=1.3.1 in c:\\users\\marti\\vdsman_constitutive_model_fitting\\lib\\site-packages (from matplotlib) (1.4.7)\n",
      "Requirement already satisfied: numpy>=1.23 in c:\\users\\marti\\vdsman_constitutive_model_fitting\\lib\\site-packages (from matplotlib) (2.1.3)\n",
      "Requirement already satisfied: packaging>=20.0 in c:\\users\\marti\\vdsman_constitutive_model_fitting\\lib\\site-packages (from matplotlib) (24.2)\n",
      "Requirement already satisfied: pillow>=8 in c:\\users\\marti\\vdsman_constitutive_model_fitting\\lib\\site-packages (from matplotlib) (11.0.0)\n",
      "Requirement already satisfied: pyparsing>=2.3.1 in c:\\users\\marti\\vdsman_constitutive_model_fitting\\lib\\site-packages (from matplotlib) (3.2.0)\n",
      "Requirement already satisfied: python-dateutil>=2.7 in c:\\users\\marti\\vdsman_constitutive_model_fitting\\lib\\site-packages (from matplotlib) (2.9.0.post0)\n",
      "Requirement already satisfied: six>=1.5 in c:\\users\\marti\\vdsman_constitutive_model_fitting\\lib\\site-packages (from python-dateutil>=2.7->matplotlib) (1.16.0)\n",
      "Note: you may need to restart the kernel to use updated packages.\n",
      "Requirement already satisfied: scipy in c:\\users\\marti\\vdsman_constitutive_model_fitting\\lib\\site-packages (1.14.1)\n",
      "Requirement already satisfied: numpy<2.3,>=1.23.5 in c:\\users\\marti\\vdsman_constitutive_model_fitting\\lib\\site-packages (from scipy) (2.1.3)\n",
      "Note: you may need to restart the kernel to use updated packages.\n",
      "Note: you may need to restart the kernel to use updated packages.\n"
     ]
    },
    {
     "name": "stderr",
     "output_type": "stream",
     "text": [
      "ERROR: Could not find a version that satisfies the requirement math (from versions: none)\n",
      "ERROR: No matching distribution found for math\n"
     ]
    },
    {
     "name": "stdout",
     "output_type": "stream",
     "text": [
      "Requirement already satisfied: openpyxl in c:\\users\\marti\\vdsman_constitutive_model_fitting\\lib\\site-packages (3.1.5)\n",
      "Requirement already satisfied: et-xmlfile in c:\\users\\marti\\vdsman_constitutive_model_fitting\\lib\\site-packages (from openpyxl) (2.0.0)\n",
      "Note: you may need to restart the kernel to use updated packages.\n",
      "Requirement already satisfied: scikit-learn in c:\\users\\marti\\vdsman_constitutive_model_fitting\\lib\\site-packages (1.5.2)\n",
      "Requirement already satisfied: numpy>=1.19.5 in c:\\users\\marti\\vdsman_constitutive_model_fitting\\lib\\site-packages (from scikit-learn) (2.1.3)\n",
      "Requirement already satisfied: scipy>=1.6.0 in c:\\users\\marti\\vdsman_constitutive_model_fitting\\lib\\site-packages (from scikit-learn) (1.14.1)\n",
      "Requirement already satisfied: joblib>=1.2.0 in c:\\users\\marti\\vdsman_constitutive_model_fitting\\lib\\site-packages (from scikit-learn) (1.4.2)\n",
      "Requirement already satisfied: threadpoolctl>=3.1.0 in c:\\users\\marti\\vdsman_constitutive_model_fitting\\lib\\site-packages (from scikit-learn) (3.5.0)\n",
      "Note: you may need to restart the kernel to use updated packages.\n",
      "Requirement already satisfied: SALib in c:\\users\\marti\\vdsman_constitutive_model_fitting\\lib\\site-packages (1.5.1)\n",
      "Requirement already satisfied: matplotlib>=3.5 in c:\\users\\marti\\vdsman_constitutive_model_fitting\\lib\\site-packages (from SALib) (3.9.2)\n",
      "Requirement already satisfied: multiprocess in c:\\users\\marti\\vdsman_constitutive_model_fitting\\lib\\site-packages (from SALib) (0.70.17)\n",
      "Requirement already satisfied: numpy>=1.20.3 in c:\\users\\marti\\vdsman_constitutive_model_fitting\\lib\\site-packages (from SALib) (2.1.3)\n",
      "Requirement already satisfied: pandas>=2.0 in c:\\users\\marti\\vdsman_constitutive_model_fitting\\lib\\site-packages (from SALib) (2.2.3)\n",
      "Requirement already satisfied: scipy>=1.9.3 in c:\\users\\marti\\vdsman_constitutive_model_fitting\\lib\\site-packages (from SALib) (1.14.1)\n",
      "Requirement already satisfied: contourpy>=1.0.1 in c:\\users\\marti\\vdsman_constitutive_model_fitting\\lib\\site-packages (from matplotlib>=3.5->SALib) (1.3.1)\n",
      "Requirement already satisfied: cycler>=0.10 in c:\\users\\marti\\vdsman_constitutive_model_fitting\\lib\\site-packages (from matplotlib>=3.5->SALib) (0.12.1)\n",
      "Requirement already satisfied: fonttools>=4.22.0 in c:\\users\\marti\\vdsman_constitutive_model_fitting\\lib\\site-packages (from matplotlib>=3.5->SALib) (4.55.0)\n",
      "Requirement already satisfied: kiwisolver>=1.3.1 in c:\\users\\marti\\vdsman_constitutive_model_fitting\\lib\\site-packages (from matplotlib>=3.5->SALib) (1.4.7)\n",
      "Requirement already satisfied: packaging>=20.0 in c:\\users\\marti\\vdsman_constitutive_model_fitting\\lib\\site-packages (from matplotlib>=3.5->SALib) (24.2)\n",
      "Requirement already satisfied: pillow>=8 in c:\\users\\marti\\vdsman_constitutive_model_fitting\\lib\\site-packages (from matplotlib>=3.5->SALib) (11.0.0)\n",
      "Requirement already satisfied: pyparsing>=2.3.1 in c:\\users\\marti\\vdsman_constitutive_model_fitting\\lib\\site-packages (from matplotlib>=3.5->SALib) (3.2.0)\n",
      "Requirement already satisfied: python-dateutil>=2.7 in c:\\users\\marti\\vdsman_constitutive_model_fitting\\lib\\site-packages (from matplotlib>=3.5->SALib) (2.9.0.post0)\n",
      "Requirement already satisfied: pytz>=2020.1 in c:\\users\\marti\\vdsman_constitutive_model_fitting\\lib\\site-packages (from pandas>=2.0->SALib) (2024.2)\n",
      "Requirement already satisfied: tzdata>=2022.7 in c:\\users\\marti\\vdsman_constitutive_model_fitting\\lib\\site-packages (from pandas>=2.0->SALib) (2024.2)\n",
      "Requirement already satisfied: dill>=0.3.9 in c:\\users\\marti\\vdsman_constitutive_model_fitting\\lib\\site-packages (from multiprocess->SALib) (0.3.9)\n",
      "Requirement already satisfied: six>=1.5 in c:\\users\\marti\\vdsman_constitutive_model_fitting\\lib\\site-packages (from python-dateutil>=2.7->matplotlib>=3.5->SALib) (1.16.0)\n",
      "Note: you may need to restart the kernel to use updated packages.\n",
      "Requirement already satisfied: pyDOE in c:\\users\\marti\\vdsman_constitutive_model_fitting\\lib\\site-packages (0.3.8)\n",
      "Requirement already satisfied: numpy in c:\\users\\marti\\vdsman_constitutive_model_fitting\\lib\\site-packages (from pyDOE) (2.1.3)\n",
      "Requirement already satisfied: scipy in c:\\users\\marti\\vdsman_constitutive_model_fitting\\lib\\site-packages (from pyDOE) (1.14.1)\n",
      "Note: you may need to restart the kernel to use updated packages.\n",
      "Requirement already satisfied: h5py in c:\\users\\marti\\vdsman_constitutive_model_fitting\\lib\\site-packages (3.12.1)\n",
      "Requirement already satisfied: numpy>=1.19.3 in c:\\users\\marti\\vdsman_constitutive_model_fitting\\lib\\site-packages (from h5py) (2.1.3)\n",
      "Note: you may need to restart the kernel to use updated packages.\n"
     ]
    }
   ],
   "execution_count": 1
  },
  {
   "metadata": {
    "ExecuteTime": {
     "end_time": "2025-01-23T13:37:06.792569Z",
     "start_time": "2025-01-23T13:37:03.045575Z"
    }
   },
   "cell_type": "code",
   "source": [
    "import pandas as pd\n",
    "import matplotlib.pyplot as plt\n",
    "import numpy as np\n",
    "from scipy.optimize import curve_fit, minimize\n",
    "import math as math\n",
    "import os\n",
    "import warnings\n",
    "from sklearn.metrics import r2_score\n",
    "import copy\n",
    "import subprocess\n",
    "from PIL import Image\n",
    "import scipy.stats as stats\n",
    "from matplotlib.patches import Patch\n",
    "from matplotlib.lines import Line2D\n",
    "from scipy.optimize import fsolve\n",
    "import matplotlib.pyplot as plt\n",
    "from SALib.sample import saltelli\n",
    "from SALib.analyze import sobol\n",
    "import json\n",
    "import datetime\n",
    "from scipy.stats import t\n",
    "from pyDOE import lhs\n",
    "import matplotlib.pyplot as plt\n",
    "import numpy as np\n",
    "from scipy.optimize import curve_fit, minimize\n",
    "import math as math\n",
    "import os\n",
    "import warnings\n",
    "import copy\n",
    "import subprocess\n",
    "from PIL import Image\n",
    "from scipy.optimize import approx_fprime\n",
    "import importlib\n",
    "import textwrap\n",
    "import sys"
   ],
   "outputs": [],
   "execution_count": 1
  },
  {
   "metadata": {
    "ExecuteTime": {
     "end_time": "2025-01-23T13:37:19.473273Z",
     "start_time": "2025-01-23T13:37:19.454307Z"
    }
   },
   "cell_type": "code",
   "source": [
    "#import functions_defined_for_fitting_withpenalty\n",
    "#from functions_defined_for_fitting_withpenalty import *\n",
    "#importlib.reload(functions_defined_for_fitting_withpenalty)\n",
    "from functions_fitting import *\n",
    "\n",
    "import data_inputs_martijn\n",
    "from data_inputs_martijn import *\n",
    "importlib.reload(data_inputs_martijn)\n"
   ],
   "outputs": [
    {
     "data": {
      "text/plain": [
       "<module 'data_inputs_martijn' from 'D:\\\\vdSman_Constitutive_Model_Fitting\\\\data_inputs_martijn.py'>"
      ]
     },
     "execution_count": 2,
     "metadata": {},
     "output_type": "execute_result"
    }
   ],
   "execution_count": 2
  },
  {
   "metadata": {},
   "cell_type": "markdown",
   "source": [
    "Martijn Notes\n",
    "\n",
    "LAOS Data:\n",
    "data_exp = [ [ [time],[stress],[strain],[shrate] ] , [ [time],[stress],[strain],[shrate] ], ...,   ]\n",
    "\n",
    "Freq: 1Hz\n",
    "\n",
    "Side by side experiments in file, variable amount of headers\n",
    "\n",
    "\n"
   ]
  },
  {
   "attachments": {},
   "cell_type": "markdown",
   "metadata": {},
   "source": [
    "# Read Data"
   ]
  },
  {
   "attachments": {},
   "cell_type": "markdown",
   "metadata": {},
   "source": [
    "Some explaianition of the datasets:\n",
    "\n",
    "**Freq Sweep** <br /> \n",
    "data_exp_frswp = [ [ [freq],[G'],[G''] ] , [ [[freq],[G'],[G''] ] ]<br /> \n",
    "                           rep1          ,           rep2<br /> \n",
    "data_exp_frswp_avg = [ [ [freq],[G'],[G''] ] ] only the average, freq values coming from the rep1<br /> \n",
    "std_frq_swp = [ [std for G1],[std for G2] ]\n",
    "\n",
    "**Amplitude Sweep** <br /> \n",
    "data_exp_frswp = [ [ [ampl],[G'],[G''] ] , [ [ampl],[G'],[G''] ] ]<br /> \n",
    "                           rep1          ,           rep2<br /> \n",
    "data_exp_frswp_avg = [ [ [ampl],[G'],[G''] ] ] only the average, strain values coming from the rep1<br /> \n",
    "std_str_swp= [ [std for G1],[std for G2] ]\n",
    "\n",
    "**LAOS** <br /> \n",
    "data_exp = [ [ [time],[stress],[strain],[shrate] ] , [ [time],[stress],[strain],[shrate] ], ...,   ] <br /> \n",
    "first 2Hz for each strain(7), replicates contunie in series, then 4Hz each strain(7) and replicates<br /> \n",
    "data_exp_avg =  the same above but replicates averaged, hence only one set of strain amplitudes(7) at 2Hz then 4Hz (14 elements total with 4 subseries each) <br /> \n",
    "std_all = array containgin std dev in strain for each  amplitude\n",
    "\n",
    "\n",
    "**Stress Growth** <br /> \n",
    "15 shear rates, followed by 15 replictaes.<br /> \n",
    "Each element of \"data_exp_stgrw\" contains 3 sub elements: time, strain, shear rate, each 99 elements<br /> \n",
    "\"data_exp_stgrw_avg\" contains average of replictaes, the same format with 15 averaged values. The strain and time were extractedfrom the first replicate. <br /> \n",
    "std_grw = has 15 elements each  containing 99 elements for each of the stress value collected at a certain time/strain for wach given shear rate"
   ]
  },
  {
   "attachments": {},
   "cell_type": "markdown",
   "metadata": {},
   "source": [
    "## Freq Sweep"
   ]
  },
  {
   "attachments": {},
   "cell_type": "markdown",
   "metadata": {},
   "source": [
    "### Viscoelastic moduli"
   ]
  },
  {
   "cell_type": "code",
   "metadata": {
    "ExecuteTime": {
     "end_time": "2024-11-28T23:29:16.749204Z",
     "start_time": "2024-11-28T23:29:16.698687Z"
    }
   },
   "source": [
    "#   Inputs\n",
    "n_header= 81 #header rows just from the begining to the first data\n",
    "n_rows=11 #number of data points in the measurement\n",
    "rows_btw_data = 77 #number20 of rows between two measurements\n",
    "header_list=['Meas. Pts.',\t'Frequency',\t'Storage Modulus',\\\n",
    "             \t'Loss Modulus',\t'Damping Factor',\t'Complex Viscosity',\t'Deflection Angle',\t'Torque']\n",
    "what_to_collect_time_dep= [ 'Frequency', 'Storage Modulus','Loss Modulus', 'Complex Viscosity'  ]\n",
    "what_to_collect_single_val = []\n",
    "sheet_name = 'freq_sweep'\n",
    "sample_list = ['01-frswp-P60-0.60-1', \\\n",
    "               '02-frswp-P60-0.60-2']    \n",
    "\n",
    "#   Function\n",
    "data_exp_frswp = read_data1(n_header, n_rows, header_list, what_to_collect_time_dep,\\\n",
    "               path_read, sheet_name, sample_list, rows_btw_data)\n",
    "\n",
    "print(data_exp_frswp)\n",
    "\n"
   ],
   "outputs": [
    {
     "name": "stdout",
     "output_type": "stream",
     "text": [
      "[[[0.1, 0.1585, 0.2512, 0.3981, 0.631, 1.0, 1.585, 2.512, 3.981, 6.31, 10.0], [10840, 11740, 12570, 13370, 14190, 15020, 15890, 16780, 17680, 18610, 19630], [2510, 2525, 2576, 2673, 2806, 2951, 3122, 3307, 3503, 3711, 3934], [17700.0, 12060.0, 8132.0, 5450.0, 3648.0, 2437.0, 1626.0, 1084.0, 720.4, 478.5, 318.6]], [[0.1, 0.1585, 0.2512, 0.3981, 0.631, 1.0, 1.585, 2.512, 3.981, 6.31, 10.0], [9588, 10440, 11210, 11940, 12670, 13420, 14170, 14940, 15700, 16480, 17360], [2263, 2265, 2304, 2375, 2466, 2568, 2683, 2818, 2967, 3130, 3305], [15680.0, 10730.0, 7251.0, 4865.0, 3257.0, 2174.0, 1448.0, 963.2, 638.7, 423.2, 281.3]]]\n"
     ]
    }
   ],
   "execution_count": 11
  },
  {
   "attachments": {},
   "cell_type": "markdown",
   "metadata": {},
   "source": [
    "Average the replicates"
   ]
  },
  {
   "cell_type": "code",
   "metadata": {
    "ExecuteTime": {
     "end_time": "2024-11-28T22:52:59.048572Z",
     "start_time": "2024-11-28T22:52:58.844809Z"
    }
   },
   "source": [
    "G1rep1 = data_exp_frswp[0][1]\n",
    "G1rep2 = data_exp_frswp[1][1]\n",
    "\n",
    "G2rep1 = data_exp_frswp[0][2]\n",
    "G2rep2 = data_exp_frswp[1][2]\n",
    "\n",
    "avg = [[],[]]\n",
    "std_freq_swp = [[],[]]\n",
    "for i in range(0,len(G1rep1)):\n",
    "    avg[0].append(np.average([G1rep1[i], G1rep2[i]]))\n",
    "    avg[1].append(np.average([G2rep1[i], G2rep2[i]]))\n",
    "    std_freq_swp[0].append(np.std([G1rep1[i], G1rep2[i]]))\n",
    "    std_freq_swp[1].append(np.std([G2rep1[i], G2rep2[i]]))\n",
    "\n",
    "print(avg)\n",
    "print(std_freq_swp)\n",
    "data_exp_frswp_avg = [[]]\n",
    "for i in range(0,3):\n",
    "    if i == 0: data_exp_frswp_avg[0].append(data_exp_frswp[0][0])\n",
    "    if i == 1: data_exp_frswp_avg[0].append(avg[0])\n",
    "    if i == 2: data_exp_frswp_avg[0].append(avg[1])\n",
    "print(data_exp_frswp_avg)\n",
    "\n",
    "# Create a figure and an array of axes with 1 row and 3 columns\n",
    "fig, axs = plt.subplots(figsize=(8, 6))\n",
    "axs.set_xscale('log')\n",
    "axs.set_yscale('log')\n",
    "\n",
    "\n",
    "axs.set_xlabel('Frequency (1/s)')\n",
    "axs.set_ylabel(\"G', G'' (Pa)\")\n",
    "\n",
    "axs.set_ylim(1e3, 1e5)\n",
    "\n",
    "axs.errorbar(data_exp_frswp_avg[0][0], data_exp_frswp_avg[0][1], yerr=std_freq_swp[0], marker='o', color='red',\\\n",
    "              label='Data 1', markersize=4, linewidth =0, ecolor = 'black', elinewidth=3, markeredgecolor='black')\n",
    "axs.errorbar(data_exp_frswp_avg[0][0], data_exp_frswp_avg[0][2], yerr=std_freq_swp[1], marker='o', color=color_palette[0],\\\n",
    "              label='Data 1', markersize=4, linewidth =0, ecolor = 'black', elinewidth=3, alpha =0.5)\n",
    "\n"
   ],
   "outputs": [
    {
     "name": "stdout",
     "output_type": "stream",
     "text": [
      "[[np.float64(10214.0), np.float64(11090.0), np.float64(11890.0), np.float64(12655.0), np.float64(13430.0), np.float64(14220.0), np.float64(15030.0), np.float64(15860.0), np.float64(16690.0), np.float64(17545.0), np.float64(18495.0)], [np.float64(2386.5), np.float64(2395.0), np.float64(2440.0), np.float64(2524.0), np.float64(2636.0), np.float64(2759.5), np.float64(2902.5), np.float64(3062.5), np.float64(3235.0), np.float64(3420.5), np.float64(3619.5)]]\n",
      "[[np.float64(626.0), np.float64(650.0), np.float64(680.0), np.float64(715.0), np.float64(760.0), np.float64(800.0), np.float64(860.0), np.float64(920.0), np.float64(990.0), np.float64(1065.0), np.float64(1135.0)], [np.float64(123.5), np.float64(130.0), np.float64(136.0), np.float64(149.0), np.float64(170.0), np.float64(191.5), np.float64(219.5), np.float64(244.5), np.float64(268.0), np.float64(290.5), np.float64(314.5)]]\n",
      "[[[0.1, 0.1585, 0.2512, 0.3981, 0.631, 1.0, 1.585, 2.512, 3.981, 6.31, 10.0], [np.float64(10214.0), np.float64(11090.0), np.float64(11890.0), np.float64(12655.0), np.float64(13430.0), np.float64(14220.0), np.float64(15030.0), np.float64(15860.0), np.float64(16690.0), np.float64(17545.0), np.float64(18495.0)], [np.float64(2386.5), np.float64(2395.0), np.float64(2440.0), np.float64(2524.0), np.float64(2636.0), np.float64(2759.5), np.float64(2902.5), np.float64(3062.5), np.float64(3235.0), np.float64(3420.5), np.float64(3619.5)]]]\n"
     ]
    },
    {
     "data": {
      "text/plain": [
       "<ErrorbarContainer object of 3 artists>"
      ]
     },
     "execution_count": 6,
     "metadata": {},
     "output_type": "execute_result"
    },
    {
     "data": {
      "text/plain": [
       "<Figure size 800x600 with 1 Axes>"
      ],
      "image/png": "[encoded data removed]"
     },
     "metadata": {},
     "output_type": "display_data"
    }
   ],
   "execution_count": 6
  },
  {
   "attachments": {},
   "cell_type": "markdown",
   "metadata": {},
   "source": [
    "### Waveform Data"
   ]
  },
  {
   "cell_type": "code",
   "metadata": {
    "ExecuteTime": {
     "end_time": "2024-11-28T23:29:08.592891Z",
     "start_time": "2024-11-28T23:29:07.901539Z"
    }
   },
   "source": [
    "#Inputs\n",
    "n_header= 82 #header rows just from the begining to the first data\n",
    "n_rows=ndata_cycle*len(freqvals_frfit) #number of data points in the measurement\n",
    "rows_btw_data = 77 #number of rows between two measurements\n",
    "header_list=['Meas. Pts.',\t'Frequency',\t'Angular Frequency',\t'Strain',\t'Shear Stress', 'Phase Angle', 'Period Time', \\\n",
    "             'Raw Value Strain', 'Raw Value Shear Rate', 'Raw Value Shear Stress']\n",
    "what_to_collect_time_dep= ['Period Time', 'Raw Value Shear Stress','Raw Value Strain','Raw Value Shear Rate'  ]\n",
    "what_to_collect_single_val = []\n",
    "sheet_name = 'freq_swp_waveform'\n",
    "sample_list = ['01-frswp-P60-0.60-1',\\\n",
    "               '02-frswp-P60-0.60-2',\\\n",
    "               '03-frswp-P60-0.60-3']    \n",
    "#Function\n",
    "data_exp_frswp_waveform = read_data(n_header, n_rows, header_list, what_to_collect_time_dep,what_to_collect_single_val,\\\n",
    "               path_read, sheet_name, sample_list, rows_btw_data,cyclesdata, ndata_percycle)\n"
   ],
   "outputs": [],
   "execution_count": 10
  },
  {
   "attachments": {},
   "cell_type": "markdown",
   "metadata": {},
   "source": [
    "Average the replicates"
   ]
  },
  {
   "cell_type": "code",
   "metadata": {},
   "source": [
    "rep1 = data_exp_frswp_waveform[0][0][1]\n",
    "rep2 = data_exp_frswp_waveform[0][1][1]\n",
    "\n",
    "avg = []\n",
    "std_freqwaveform = []\n",
    "for i in range(0,len(rep1)):\n",
    "    avg.append(np.average([rep1[i], rep2[i]]))\n",
    "    std_freqwaveform.append(np.std([rep1[i], rep2[i]]))\n",
    "\n",
    "\n",
    "elem1 = data_exp_frswp_waveform[0][0][0]\n",
    "elem2 = avg\n",
    "elem3 = data_exp_frswp_waveform[0][0][2]\n",
    "elem4 = data_exp_frswp_waveform[0][0][3]\n",
    "data_exp_frswp_waveform_avg = [[[elem1, elem2, elem3, elem4]]]\n",
    "\n",
    "fig, axs = plt.subplots(1,3,figsize=(18, 6))\n",
    "\n",
    "axs[0].set_xlabel('Strain (%)')\n",
    "axs[1].set_xlabel('Strain (%)')\n",
    "axs[2].set_xlabel('Strain (%)')\n",
    "axs[0].set_ylabel(\"Stress (Pa)\")\n",
    "\n",
    "\n",
    "\n",
    "for i in range(0,len(freqvals_frfit)):\n",
    "    x= np.multiply(data_exp_frswp_waveform_avg[0][0][2][i*ndata_cycle:(i+1)*ndata_cycle],100)\n",
    "    if i <= 3:\n",
    "        axs[0].errorbar(x, data_exp_frswp_waveform_avg[0][0][1][i*ndata_cycle:(i+1)*ndata_cycle], yerr=std_freqwaveform[i*ndata_cycle:(i+1)*ndata_cycle],\\\n",
    "             marker='o', linewidth=0, markersize=3, color=color_palette[i%4], ecolor=color_palette[i], elinewidth = 1,\n",
    "             label=f'freq:{freqvals_frfit[i]}')\n",
    "    elif i < 8:\n",
    "        axs[1].errorbar(x, data_exp_frswp_waveform_avg[0][0][1][i*ndata_cycle:(i+1)*ndata_cycle], yerr=std_freqwaveform[i*ndata_cycle:(i+1)*ndata_cycle],\\\n",
    "             marker='o', linewidth=0, markersize=3, color=color_palette[i%4], ecolor=color_palette[i%3], elinewidth = 1,\n",
    "             label=f'freq:{freqvals_frfit[i]}')\n",
    "    else:\n",
    "        axs[2].errorbar(x, data_exp_frswp_waveform_avg[0][0][1][i*ndata_cycle:(i+1)*ndata_cycle], yerr=std_freqwaveform[i*ndata_cycle:(i+1)*ndata_cycle],\\\n",
    "             marker='o', linewidth=0, markersize=3, color=color_palette[i%3], ecolor=color_palette[i%3], elinewidth = 1,\n",
    "             label=f'freq:{freqvals_frfit[i]}')\n",
    "        \n",
    "axs[0].legend(fontsize=12)\n",
    "axs[1].legend(fontsize=12)\n",
    "axs[2].legend(fontsize=12)\n"
   ],
   "outputs": [],
   "execution_count": null
  },
  {
   "attachments": {},
   "cell_type": "markdown",
   "metadata": {},
   "source": [
    "## Amplitude Sweep\n",
    "\n",
    "Martijn's Section"
   ]
  },
  {
   "cell_type": "code",
   "metadata": {
    "ExecuteTime": {
     "end_time": "2025-01-23T13:22:24.818371Z",
     "start_time": "2025-01-23T13:22:24.401381Z"
    }
   },
   "source": [
    "#   Inputs\n",
    "n_header= 18 #header rows just from the begining to the first data\n",
    "cols_btw_data = 12 #number20 of rows between two measurements\n",
    "header_list=['Strain %', \"G' [kPa]\", \"G'' [kPa]\", 'G* [kPa]', 'Tan Delta', 'Temperature [°C]', 'Pressure [bar]', \"Viscosity n' [Pa*s]\", 'Viscosity n\" [Pa*s]', 'Viscosity n* [Pa*s]', 'Shear Rate [1/sec]', 'Shear Stress [Pa]']\n",
    "what_to_collect = ['Strain %', \"G' [kPa]\", \"G'' [kPa]\"]#[ 'Strain', 'Storage Modulus','Loss Modulus'  ]\n",
    "#what_to_collect = [\"Shear Stress [Pa]\", \"Strain %\" , \"Shear Rate [1/sec]\"]\n",
    "\n",
    "\n",
    "path_read=r\"D:\\Data\\Rheology\\CCR\\202411 DoE pH T M Alph 8\\Overview 1.xls\"\n",
    "\n",
    "sample_index = [0, 1]\n",
    "sample_name = ['M55 T130 0M', 'M55 T120 0M']\n",
    "\n",
    "#   Function\n",
    "infos, data_exp_strswp = read_data_CCR(n_header, header_list, what_to_collect, path_read, cols_btw_data)\n",
    "data_exp_strswp = [data_exp_strswp[i] for i in sample_index]\n",
    "print(data_exp_strswp)"
   ],
   "outputs": [
    {
     "name": "stdout",
     "output_type": "stream",
     "text": [
      "[[array([9.70000e-02, 1.25000e-01, 1.62000e-01, 2.10000e-01, 2.71000e-01,\n",
      "       3.50000e-01, 4.50000e-01, 5.80000e-01, 7.46000e-01, 9.57000e-01,\n",
      "       1.23000e+00, 1.58300e+00, 2.03700e+00, 2.61800e+00, 3.36900e+00,\n",
      "       4.32300e+00, 5.54200e+00, 7.10300e+00, 9.11000e+00, 1.16920e+01,\n",
      "       1.49510e+01, 1.92800e+01, 2.47260e+01, 3.18490e+01, 4.09300e+01,\n",
      "       5.25290e+01, 6.74840e+01, 8.67740e+01, 1.11382e+02, 1.43119e+02,\n",
      "       1.83951e+02, 2.36382e+02, 3.03650e+02, 3.90088e+02, 5.01162e+02]), array([78.0733, 90.419 , 89.2075, 84.4456, 83.9087, 81.9941, 79.7185,\n",
      "       78.6742, 78.0587, 76.7757, 73.8053, 71.3855, 68.7687, 63.8479,\n",
      "       60.182 , 54.3684, 47.9544, 42.0367, 36.785 , 31.9518, 28.0706,\n",
      "       23.9061, 20.1956, 16.9   , 13.9606, 11.5892,  9.3743,  7.3663,\n",
      "        5.6641,  4.1862,  2.8277,  1.8907,  1.3899,  0.924 ,  0.4593]), array([14.042 , 16.5189, 17.7744, 13.7289, 17.1037, 18.5148, 19.355 ,\n",
      "       18.1195, 17.1598, 17.1877, 18.1082, 18.027 , 16.8179, 18.2601,\n",
      "       17.9754, 18.2782, 17.639 , 16.5141, 15.2902, 13.8706, 12.715 ,\n",
      "       11.5831, 10.2938,  9.2245,  8.2822,  7.4455,  6.6452,  5.8815,\n",
      "        5.3859,  4.9742,  4.4293,  3.8873,  3.481 ,  2.9869,  2.3549])], [array([9.00000e-02, 1.18000e-01, 1.55000e-01, 2.05000e-01, 2.67000e-01,\n",
      "       3.51000e-01, 4.54000e-01, 5.89000e-01, 7.58000e-01, 9.74000e-01,\n",
      "       1.25100e+00, 1.60200e+00, 2.05500e+00, 2.63900e+00, 3.39300e+00,\n",
      "       4.35300e+00, 5.57900e+00, 7.14400e+00, 9.15000e+00, 1.17270e+01,\n",
      "       1.49920e+01, 1.93270e+01, 2.47800e+01, 3.19100e+01, 4.09980e+01,\n",
      "       5.26050e+01, 6.75640e+01, 8.68590e+01, 1.11440e+02, 1.43172e+02,\n",
      "       1.84005e+02, 2.36433e+02, 3.03690e+02, 3.90126e+02, 5.01202e+02]), array([116.2666, 119.6879, 118.7614, 121.69  , 120.0658, 119.9216,\n",
      "       120.5368, 118.9037, 116.9089, 114.9683, 113.866 , 110.7857,\n",
      "       108.8533, 105.4242, 102.4594,  98.2266,  93.3558,  87.0209,\n",
      "        79.8457,  71.018 ,  62.6178,  54.5277,  47.277 ,  41.531 ,\n",
      "        36.1688,  29.767 ,  23.8228,  18.8128,  15.1851,   9.642 ,\n",
      "         6.6606,   4.6429,   3.0539,   1.8724,   1.152 ]), array([12.0484, 12.8895, 16.8655, 14.9117, 12.2308, 12.5825, 11.5025,\n",
      "       12.667 , 14.3623, 13.1408, 13.1501, 13.4574, 13.6464, 13.5598,\n",
      "       13.7083, 14.4006, 14.894 , 15.497 , 16.2239, 17.4921, 17.5986,\n",
      "       17.0779, 16.3677, 15.2959, 13.9282, 12.2288, 11.1453, 10.1803,\n",
      "       11.3575,  9.5503,  8.1404,  7.1089,  5.8155,  4.4006,  3.4727])]]\n"
     ]
    }
   ],
   "execution_count": 3
  },
  {
   "attachments": {},
   "cell_type": "markdown",
   "metadata": {},
   "source": [
    "Average the replicates"
   ]
  },
  {
   "cell_type": "code",
   "metadata": {
    "ExecuteTime": {
     "end_time": "2025-01-23T13:22:28.482161Z",
     "start_time": "2025-01-23T13:22:27.644427Z"
    }
   },
   "source": [
    "G1rep1 = data_exp_strswp[0][1]\n",
    "G1rep2 = data_exp_strswp[1][1]\n",
    "\n",
    "G2rep1 = data_exp_strswp[0][2]\n",
    "G2rep2 = data_exp_strswp[1][2]\n",
    "\n",
    "avg = [[],[]]\n",
    "std_str_swp = [[],[]]\n",
    "for i in range(0,len(G1rep1)):\n",
    "    avg[0].append(np.average([G1rep1[i], G1rep2[i]]))\n",
    "    avg[1].append(np.average([G2rep1[i], G2rep2[i]]))\n",
    "    std_str_swp[0].append(np.std([G1rep1[i], G1rep2[i]]))\n",
    "    std_str_swp[1].append(np.std([G2rep1[i], G2rep2[i]]))\n",
    "\n",
    "data_exp_strswp_avg = [[]]\n",
    "for i in range(0,3):\n",
    "    if i == 0: data_exp_strswp_avg[0].append(data_exp_strswp[0][0])\n",
    "    if i == 1: data_exp_strswp_avg[0].append(avg[0])\n",
    "    if i == 2: data_exp_strswp_avg[0].append(avg[1])\n",
    "\n",
    "# Create a figure and an array of axes with 1 row and 3 columns\n",
    "fig, axs = plt.subplots(figsize=(8, 6))\n",
    "axs.set_xscale('log')\n",
    "axs.set_yscale('log')\n",
    "\n",
    "axs.set_xlabel('Strain Amplitude (%)')\n",
    "axs.set_ylabel(\"G', G'' (Pa)\")\n",
    "\n",
    "#axs.set_ylim(1e2, 1e5)\n",
    "\n",
    "axs.errorbar(data_exp_strswp_avg[0][0], data_exp_strswp_avg[0][1], yerr=std_str_swp[0], marker='o', color=color_palette[0],\\\n",
    "              label='Data 1', markersize=5, linewidth =0, ecolor = 'black', elinewidth=3)\n",
    "axs.errorbar(data_exp_strswp_avg[0][0], data_exp_strswp_avg[0][2], yerr=std_str_swp[1], marker='o', color=color_palette[0],\\\n",
    "              label='Data 1', markersize=5, linewidth =0, ecolor = 'black', elinewidth=3, alpha =0.5)\n",
    "\n",
    "\n"
   ],
   "outputs": [
    {
     "data": {
      "text/plain": [
       "<ErrorbarContainer object of 3 artists>"
      ]
     },
     "execution_count": 4,
     "metadata": {},
     "output_type": "execute_result"
    },
    {
     "data": {
      "text/plain": [
       "<Figure size 800x600 with 1 Axes>"
      ],
      "image/png": "[encoded data removed]"
     },
     "metadata": {},
     "output_type": "display_data"
    }
   ],
   "execution_count": 4
  },
  {
   "attachments": {},
   "cell_type": "markdown",
   "metadata": {},
   "source": [
    "## LAOS"
   ]
  },
  {
   "cell_type": "code",
   "metadata": {
    "ExecuteTime": {
     "end_time": "2025-01-23T13:48:19.263256Z",
     "start_time": "2025-01-23T13:48:19.098179Z"
    }
   },
   "source": [
    "#   Inputs\n",
    "ndata_cycle = 35\n",
    "n_header= 18 #header rows just from the begining to the first data\n",
    "cols_btw_data = 12 #number20 of rows between two measurements\n",
    "header_list=['Strain %', \"G' [kPa]\", \"G'' [kPa]\", 'G* [kPa]', 'Tan Delta', 'Temperature [°C]', 'Pressure [bar]', \"Viscosity n' [Pa*s]\", 'Viscosity n\" [Pa*s]', 'Viscosity n* [Pa*s]', 'Shear Rate [1/sec]', 'Shear Stress [Pa]']\n",
    "\n",
    "what_to_collect = [\"index\", \"Shear Stress [Pa]\", \"Strain %\" , \"Shear Rate [1/sec]\"]\n",
    "\n",
    "\n",
    "path_read=r\"D:\\Data\\Rheology\\CCR\\202411 DoE pH T M Alph 8\\Overview 1.xls\"\n",
    "\n",
    "sample_index = [0, 1]\n",
    "sample_name = ['M55 T130 0M', 'M55 T120 0M']\n",
    "\n",
    "infos, data_exp = read_data_CCR(n_header, header_list, what_to_collect, path_read, cols_btw_data)\n",
    "data_exp = [data_exp[i] for i in sample_index]\n",
    "data_exp_avg = data_exp\n",
    "print(data_exp)\n"
   ],
   "outputs": [
    {
     "name": "stdout",
     "output_type": "stream",
     "text": [
      "[[array([ 0,  1,  2,  3,  4,  5,  6,  7,  8,  9, 10, 11, 12, 13, 14, 15, 16,\n",
      "       17, 18, 19, 20, 21, 22, 23, 24, 25, 26, 27, 28, 29, 30, 31, 32, 33,\n",
      "       34]), array([   76.914,   115.151,   147.71 ,   179.87 ,   231.767,   294.229,\n",
      "         369.316,   468.32 ,   596.076,   752.846,   934.769,  1165.514,\n",
      "        1441.982,  1738.944,  2116.044,  2479.757,  2831.718,  3208.182,\n",
      "        3629.448,  4072.775,  4607.721,  5122.037,  5605.257,  6132.452,\n",
      "        6644.391,  7236.202,  7754.917,  8180.115,  8706.14 ,  9305.242,\n",
      "        9667.208, 10218.808, 11382.089, 12197.032, 12024.912]), array([9.70000e-02, 1.25000e-01, 1.62000e-01, 2.10000e-01, 2.71000e-01,\n",
      "       3.50000e-01, 4.50000e-01, 5.80000e-01, 7.46000e-01, 9.57000e-01,\n",
      "       1.23000e+00, 1.58300e+00, 2.03700e+00, 2.61800e+00, 3.36900e+00,\n",
      "       4.32300e+00, 5.54200e+00, 7.10300e+00, 9.11000e+00, 1.16920e+01,\n",
      "       1.49510e+01, 1.92800e+01, 2.47260e+01, 3.18490e+01, 4.09300e+01,\n",
      "       5.25290e+01, 6.74840e+01, 8.67740e+01, 1.11382e+02, 1.43119e+02,\n",
      "       1.83951e+02, 2.36382e+02, 3.03650e+02, 3.90088e+02, 5.01162e+02]), array([6.0000e-03, 8.0000e-03, 1.0000e-02, 1.3000e-02, 1.7000e-02,\n",
      "       2.2000e-02, 2.8000e-02, 3.6000e-02, 4.7000e-02, 6.0000e-02,\n",
      "       7.7000e-02, 9.9000e-02, 1.2800e-01, 1.6500e-01, 2.1200e-01,\n",
      "       2.7200e-01, 3.4800e-01, 4.4600e-01, 5.7200e-01, 7.3500e-01,\n",
      "       9.3900e-01, 1.2110e+00, 1.5540e+00, 2.0010e+00, 2.5720e+00,\n",
      "       3.3010e+00, 4.2400e+00, 5.4530e+00, 6.9990e+00, 8.9930e+00,\n",
      "       1.1559e+01, 1.4853e+01, 1.9080e+01, 2.4512e+01, 3.1491e+01])], [array([ 0,  1,  2,  3,  4,  5,  6,  7,  8,  9, 10, 11, 12, 13, 14, 15, 16,\n",
      "       17, 18, 19, 20, 21, 22, 23, 24, 25, 26, 27, 28, 29, 30, 31, 32, 33,\n",
      "       34]), array([  105.67 ,   142.414,   185.921,   250.743,   322.428,   422.737,\n",
      "         550.354,   704.315,   893.27 ,  1126.982,  1433.587,  1788.437,\n",
      "        2254.717,  2804.719,  3507.139,  4321.337,  5274.949,  6314.936,\n",
      "        7455.616,  8577.998,  9752.049, 11043.857, 12398.194, 14123.625,\n",
      "       15890.942, 16929.853, 17771.149, 18581.004, 21133.222, 19431.396,\n",
      "       19355.049, 20076.317, 19949.582, 18658.508, 18339.209]), array([9.00000e-02, 1.18000e-01, 1.55000e-01, 2.05000e-01, 2.67000e-01,\n",
      "       3.51000e-01, 4.54000e-01, 5.89000e-01, 7.58000e-01, 9.74000e-01,\n",
      "       1.25100e+00, 1.60200e+00, 2.05500e+00, 2.63900e+00, 3.39300e+00,\n",
      "       4.35300e+00, 5.57900e+00, 7.14400e+00, 9.15000e+00, 1.17270e+01,\n",
      "       1.49920e+01, 1.93270e+01, 2.47800e+01, 3.19100e+01, 4.09980e+01,\n",
      "       5.26050e+01, 6.75640e+01, 8.68590e+01, 1.11440e+02, 1.43172e+02,\n",
      "       1.84005e+02, 2.36433e+02, 3.03690e+02, 3.90126e+02, 5.01202e+02]), array([6.0000e-03, 7.0000e-03, 1.0000e-02, 1.3000e-02, 1.7000e-02,\n",
      "       2.2000e-02, 2.9000e-02, 3.7000e-02, 4.8000e-02, 6.1000e-02,\n",
      "       7.9000e-02, 1.0100e-01, 1.2900e-01, 1.6600e-01, 2.1300e-01,\n",
      "       2.7300e-01, 3.5100e-01, 4.4900e-01, 5.7500e-01, 7.3700e-01,\n",
      "       9.4200e-01, 1.2140e+00, 1.5570e+00, 2.0050e+00, 2.5760e+00,\n",
      "       3.3050e+00, 4.2450e+00, 5.4580e+00, 7.0020e+00, 8.9960e+00,\n",
      "       1.1562e+01, 1.4856e+01, 1.9083e+01, 2.4514e+01, 3.1493e+01])]]\n"
     ]
    }
   ],
   "execution_count": 4
  },
  {
   "cell_type": "code",
   "metadata": {
    "ExecuteTime": {
     "end_time": "2025-01-23T13:53:13.945409Z",
     "start_time": "2025-01-23T13:53:13.864251Z"
    }
   },
   "source": [
    "# Create a figure and an array of axes with 1 row and 3 columns\n",
    "fig, axs = plt.subplots()\n",
    "\n",
    "axs.set_xlabel('Index/ Time [s]')\n",
    "\n",
    "axs.set_ylabel('Shear Rate [1/s]')\n",
    "\n",
    "axs.set_title('1 Hz')\n",
    "\n",
    "\n",
    "\n",
    "for i in range(len(data_exp)):\n",
    "    x1 = data_exp[i][0]\n",
    "    y1 = data_exp[i][3]\n",
    "\n",
    "    # Plot data in the first subplot\n",
    "    axs.plot(x1, y1, marker='o', color=color_palette[i], label='Data 1', markersize=2, linewidth =0)\n",
    "\n",
    "\n",
    "\n",
    "# Adjust layout for better spacing\n",
    "plt.tight_layout()\n",
    "\n",
    "\n",
    "# freq = 1\n",
    "# ampl = 120\n",
    "# t = np.linspace(0,1/freq,ndata_cycle)\n",
    "# strains = []\n",
    "# shrates =[]\n",
    "# for elem in t:\n",
    "#     shrate = ampl/100 * freq*2*math.pi * np.cos(freq*elem*2*math.pi)\n",
    "#\n",
    "#     strain = ampl/100 * np.sin(freq*elem*2*math.pi)\n",
    "#     strains.append(strain)\n",
    "#     shrates.append(shrate)\n",
    "# axs.plot(t, shrates, marker='o', color='blue', markersize=0, linewidth =1)\n",
    "\n",
    "\n",
    "\n",
    "# Display the plots\n",
    "plt.show()"
   ],
   "outputs": [
    {
     "data": {
      "text/plain": [
       "<Figure size 640x480 with 1 Axes>"
      ],
      "image/png": "[encoded data removed]"
     },
     "metadata": {},
     "output_type": "display_data"
    }
   ],
   "execution_count": 8
  },
  {
   "cell_type": "code",
   "metadata": {
    "ExecuteTime": {
     "end_time": "2025-01-23T14:14:50.786668Z",
     "start_time": "2025-01-23T14:14:50.706396Z"
    }
   },
   "source": [
    "# Create a figure and an array of axes with 1 row and 3 columns\n",
    "fig, axs = plt.subplots()\n",
    "\n",
    "axs.set_xlabel('Time [s]')\n",
    "\n",
    "axs.set_ylabel('Strain [-]')\n",
    "\n",
    "axs.set_title('1 Hz')\n",
    "\n",
    "data_exp_avg = data_exp\n",
    "\n",
    "for i in range(len(data_exp)):\n",
    "\n",
    "    x1 = data_exp[i][0]\n",
    "    y1 = data_exp[i][2]\n",
    "\n",
    "\n",
    "    # Plot data in the first subplot\n",
    "    axs.plot(x1, y1, marker='o', color=color_palette[i], label='Data 1', markersize=2, linewidth =0)\n",
    "\n",
    "\n",
    "\n",
    "# Adjust layout for better spacing\n",
    "plt.tight_layout()\n",
    "\n",
    "# Display the plots\n",
    "plt.show()"
   ],
   "outputs": [
    {
     "data": {
      "text/plain": [
       "<Figure size 640x480 with 1 Axes>"
      ],
      "image/png": "[encoded data removed]"
     },
     "metadata": {},
     "output_type": "display_data"
    }
   ],
   "execution_count": 12
  },
  {
   "attachments": {},
   "cell_type": "markdown",
   "metadata": {},
   "source": [
    "Average the replicates"
   ]
  },
  {
   "cell_type": "code",
   "metadata": {},
   "source": "# We dont have replicates",
   "outputs": [],
   "execution_count": null
  },
  {
   "cell_type": "code",
   "metadata": {},
   "source": [
    "for i in range(0,7):\n",
    "    has_nan = any(math.isnan(x) for x in data_exp[i+28][1])\n",
    "    print(has_nan) "
   ],
   "outputs": [],
   "execution_count": null
  },
  {
   "attachments": {},
   "cell_type": "markdown",
   "metadata": {},
   "source": [
    "Plot with errorbars"
   ]
  },
  {
   "cell_type": "code",
   "metadata": {
    "ExecuteTime": {
     "end_time": "2025-01-23T14:15:32.744210Z",
     "start_time": "2025-01-23T14:15:32.205604Z"
    }
   },
   "source": [
    "# Create a figure and an array of axes with 1 row and 3 columns\n",
    "fig, axs = plt.subplots(1, 3, figsize=(15,5))\n",
    "axs[2].set_xscale('log')\n",
    "axs[2].set_yscale('log')\n",
    "\n",
    "\n",
    "\n",
    "axs[0].set_xlabel('Strain [-]')\n",
    "axs[1].set_xlabel('Shear Rate [1/s]')\n",
    "axs[2].set_xlabel('Shear Rate [1/s]')\n",
    "axs[0].set_ylabel('Stress [Pa]')\n",
    "axs[0].set_title(' 1 Hz')\n",
    "\n",
    "data_exp_avg = data_exp\n",
    "\n",
    "for i in range(len(data_exp)):\n",
    "\n",
    "    lim1 = 0\n",
    "    lim2 = ndata_cycle\n",
    "\n",
    "    x1 = data_exp_avg[i][2]\n",
    "    y1 = data_exp_avg[i][1]\n",
    "\n",
    "    x2 = data_exp_avg[i][3]\n",
    "    y2 = data_exp_avg[i][1]\n",
    "\n",
    "    x3 = data_exp_avg[i][3][lim1:lim2]\n",
    "    y3 = data_exp_avg[i][1][lim1:lim2]\n",
    "\n",
    "\n",
    "\n",
    "    # Plot data in the first subplot\n",
    "    axs[0].scatter(x1, y1, marker='o', color=color_palette[i], label='Data 1', linewidth =0)\n",
    "\n",
    "    # Plot data in the second subplot\n",
    "    axs[1].scatter(x2, y2, marker='s', color=color_palette[i], label='Data 2', linewidth =0 )\n",
    "\n",
    "    # Plot data in the third subplot\n",
    "    axs[2].scatter(x3, y3, marker='^', color=color_palette[i], label='Data 3', linewidth =0)\n",
    "\n",
    "# Adjust layout for better spacing\n",
    "plt.tight_layout()\n",
    "\n",
    "# Display the plots\n",
    "plt.show()\n"
   ],
   "outputs": [
    {
     "data": {
      "text/plain": [
       "<Figure size 1500x500 with 3 Axes>"
      ],
      "image/png": "[encoded data removed]"
     },
     "metadata": {},
     "output_type": "display_data"
    }
   ],
   "execution_count": 16
  },
  {
   "attachments": {},
   "cell_type": "markdown",
   "metadata": {},
   "source": [
    "## Stress Growth"
   ]
  },
  {
   "cell_type": "code",
   "metadata": {},
   "source": [
    "#   Inputs\n",
    "n_header= 105 #header rows just from the begining to the first data\n",
    "n_rows=99 #number of data points in the measurement\n",
    "rows_btw_data = 68 #number20 of rows between two measurements\n",
    "header_list=[ 'Meas. Pts.','Time', 'Strain', 'Shear Rate', 'Shear Stress',\\\n",
    "            'Torque', 'Normal Force', 'Viscosity', 'Status']\n",
    "what_to_collect_time_dep= ['Time', 'Strain', 'Shear Stress'  ]\n",
    "what_to_collect_single_val = []\n",
    "sheet_name = 'STEADY'\n",
    "\n",
    "sample_list = ['01-growth-P60-0.60-0.063',\\\n",
    "               '02-growth-P60-0.60-0.100',\\\n",
    "               '03-growth-P60-0.60-0.170',\\\n",
    "               '04-growth-P60-0.60-0.280',\\\n",
    "               '05-growth-P60-0.60-0.450',\\\n",
    "               '06-growth-P60-0.60-0.730',\\\n",
    "               '07-growth-P60-0.60-1.20',\\\n",
    "               '08-growth-P60-0.60-1.96',\\\n",
    "               '09-growth-P60-0.60-3.21',\\\n",
    "               '10-growth-P60-0.60-5.25',\\\n",
    "               '11-growth-P60-0.60-8.58',\\\n",
    "               '12-growth-P60-0.60-14.1',\\\n",
    "               '13-growth-P60-0.60-23.0',\\\n",
    "               '14-growth-P60-0.60-37.0',\\\n",
    "               '15-growth-P60-0.60-61.0',\\\n",
    "               '16-growth-P60-0.60-0.063',\\\n",
    "               '17-growth-P60-0.60-0.100',\\\n",
    "               '18-growth-P60-0.60-0.170',\\\n",
    "               '19-growth-P60-0.60-0.280',\\\n",
    "               '20-growth-P60-0.60-0.450',\\\n",
    "               '21-growth-P60-0.60-0.730',\\\n",
    "               '22-growth-P60-0.60-1.20',\\\n",
    "               '23-growth-P60-0.60-1.96',\\\n",
    "               '24-growth-P60-0.60-3.21',\\\n",
    "               '25-growth-P60-0.60-5.25',\\\n",
    "               '26-growth-P60-0.60-8.58',\\\n",
    "               '27-growth-P60-0.60-14.1',\\\n",
    "               '28-growth-P60-0.60-23.0',\\\n",
    "               '29-growth-P60-0.60-37.0',\\\n",
    "               '30-growth-P60-0.60-61.0',\\\n",
    "               ]  \n",
    " \n",
    "\n",
    "#   Function\n",
    "data_exp_stgrw= read_data1(n_header, n_rows, header_list, what_to_collect_time_dep,\\\n",
    "               path_read, sheet_name, sample_list, rows_btw_data)"
   ],
   "outputs": [],
   "execution_count": null
  },
  {
   "attachments": {},
   "cell_type": "markdown",
   "metadata": {},
   "source": [
    "Get the average of replicates"
   ]
  },
  {
   "cell_type": "code",
   "metadata": {},
   "source": [
    "first_rep = []\n",
    "second_rep = []\n",
    "i=0\n",
    "for elem in data_exp_stgrw:\n",
    "    # elem[1]: strain\n",
    "    # elem[2]: stress\n",
    "\n",
    "    if i < 15: # there are 15 shear rates\n",
    "        first_rep.append(elem[2])\n",
    "    if i >= 15:\n",
    "        second_rep.append(elem[2])\n",
    "    i+=1\n",
    "\n",
    "avg = []\n",
    "std_strgrw = []\n",
    "for n in range(0,len(first_rep)):\n",
    "    avg_elem = []\n",
    "    std_elem = []\n",
    "    for m in range(0,len(first_rep[n])):\n",
    "        array = [first_rep[n][m], second_rep[n][m]]\n",
    "        avg_val = np.average(array)\n",
    "        std_val = np.std(array)\n",
    "        avg_elem.append(avg_val)\n",
    "        std_elem.append(std_val)\n",
    "    \n",
    "    avg.append(avg_elem)\n",
    "    std_strgrw.append(std_elem)\n",
    "\n",
    "data_exp_stgrw_avg = []\n",
    "\n",
    "for i in range(0,len(str_grw_shear_rates)):\n",
    "    elem = []\n",
    "    for k in range(0,3):\n",
    "        if k == 0: elem.append(data_exp_stgrw[i][0])\n",
    "        if k == 1: elem.append(data_exp_stgrw[i][1])\n",
    "        if k == 2: elem.append(avg[i])\n",
    "    data_exp_stgrw_avg.append(elem)\n",
    "\n",
    "\n",
    "fig, axs = plt.subplots(figsize=(8, 5))\n",
    "axs.set_xscale('log')\n",
    "axs.set_yscale('log')\n",
    "axs.set_xlabel('Strain (-)')\n",
    "axs.set_ylabel('Stress (Pa)')\n",
    "\n",
    "i=0\n",
    "for elem in range(0,len(data_exp_stgrw_avg)):\n",
    "    axs.errorbar(data_exp_stgrw_avg[i][1],data_exp_stgrw_avg[i][2], yerr=std_strgrw[i],\\\n",
    "                  label='$\\dot{{\\gamma}}$={:1.2f}'.format(str_grw_shear_rates[i]), marker='o', markersize = 0,\\\n",
    "                  color=color_palette[i], ecolor='black')\n",
    "\n",
    "    i+=1\n",
    "axs.legend(fontsize=8)\n",
    "\n"
   ],
   "outputs": [],
   "execution_count": null
  },
  {
   "attachments": {},
   "cell_type": "markdown",
   "metadata": {},
   "source": [
    "To do: \\\n",
    "Include errorbars in new plots"
   ]
  },
  {
   "attachments": {},
   "cell_type": "markdown",
   "metadata": {},
   "source": [
    "# Write Data"
   ]
  },
  {
   "cell_type": "code",
   "metadata": {},
   "source": [
    "varname_list = []\n",
    "for var_name in dir():\n",
    "    # Skip private/internal variables\n",
    "    if not var_name.startswith('_'):\n",
    "        var_value = eval(var_name)\n",
    "        \n",
    "        # Check if the variable is a NumPy array (or any other array-like type)\n",
    "        if isinstance(var_value, (np.ndarray, list)):\n",
    "            varname_list.append(var_name)\n",
    "\n",
    "varname_list_sorted = sorted(varname_list)\n",
    "\n",
    "for k in range(0, len(varname_list_sorted)):\n",
    "    text = f\"'{varname_list_sorted[k]}',\"\n",
    "    print(text)\n",
    "\n"
   ],
   "outputs": [],
   "execution_count": null
  },
  {
   "cell_type": "code",
   "metadata": {},
   "source": [
    "#get current time\n",
    "current_time = datetime.datetime.now()\n",
    "formatted_time = current_time.strftime('%Y_%m_%d_%H_%M')\n",
    "\n",
    "export_items= [\n",
    "'data_exp_avg',\n",
    "'data_exp_frswp_avg',\n",
    "'data_exp_frswp_waveform_avg',\n",
    "'data_exp_stgrw_avg',\n",
    "'data_exp_strswp_avg',\n",
    "'std_all',\n",
    "'std_freq_swp',\n",
    "'std_freqwaveform',\n",
    "'std_str_swp',\n",
    "'std_strgrw',\n",
    "]\n",
    "\n",
    "# Open a new file to store variables\n",
    "with open(f'data_reading/arrays_{formatted_time}_humanreadable.py', 'w') as f:\n",
    "    for var_name in dir():\n",
    "        # Skip private/internal variables\n",
    "        if not var_name.startswith('_'):\n",
    "            var_value = eval(var_name)\n",
    "            \n",
    "            # Check if the variable is a NumPy array (or any other array-like type)\n",
    "            if isinstance(var_value, (np.ndarray, list)):\n",
    "\n",
    "                if var_name in export_items:\n",
    "                    # Write variable assignment to the file\n",
    "                    text1 = f'{var_name} = {repr(var_value)}'\n",
    "                    f.write(textwrap.fill(text1, width=80))\n",
    "                    f.write('\\n')\n",
    "\n",
    "np.savez(f'data_reading/arrays_{formatted_time}.npz', **{name: eval(name) for name in export_items})\n"
   ],
   "outputs": [],
   "execution_count": null
  }
 ],
 "metadata": {
  "kernelspec": {
   "display_name": "Python 3",
   "language": "python",
   "name": "python3"
  },
  "language_info": {
   "codemirror_mode": {
    "name": "ipython",
    "version": 3
   },
   "file_extension": ".py",
   "mimetype": "text/x-python",
   "name": "python",
   "nbconvert_exporter": "python",
   "pygments_lexer": "ipython3",
   "version": "3.11.6"
  },
  "orig_nbformat": 4,
  "vscode": {
   "interpreter": {
    "hash": "b0fa6594d8f4cbf19f97940f81e996739fb7646882a419484c72d19e05852a7e"
   }
  }
 },
 "nbformat": 4,
 "nbformat_minor": 2
}
